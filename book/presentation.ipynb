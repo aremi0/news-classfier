{
 "cells": [
  {
   "cell_type": "markdown",
   "metadata": {},
   "source": [
    "# News Classfier - TAP project\n",
    "### A real-time news article categorizer\n",
    "---"
   ]
  },
  {
   "cell_type": "markdown",
   "metadata": {},
   "source": [
    "#### Introduzione\n",
    "Lo scopo del progetto è quello di raccogliere e analizzare gli ultimissimi articoli giornalistici pubblicati ogni quindici minuti da più di 3000 testate in tutto il mondo, categorizzarli con un modello di machine learning sulla base del testo che li compone in una tra le diciassette categorie previste, ed infine mostrare i dati più rilevanti in una world-map dinamica stilizzata, permettendo inoltre analisi comparative tra i vari stati del mondo."
   ]
  },
  {
   "cell_type": "markdown",
   "metadata": {},
   "source": [
    "#### Pipeline\n",
    "<img src=\"./images/workflow.PNG\" width=90% style=\"margin-left:auto; margin-right:auto\">\n",
    "\n",
    "Ogni tecnologia utilizzata in questa pipeline girerà all'interno di container opportunamente organizzati e gestiti tramite l'utilizzo del software Docker.\n",
    "\\\n",
    "<img src=\"./images/docker.png\" width=20% style=\"margin-left:auto; margin-right:auto\">\n",
    "\n",
    "\n",
    "---"
   ]
  },
  {
   "cell_type": "markdown",
   "metadata": {},
   "source": [
    "#### Python daemon and GDELT Project\n",
    "GDELT è un progetto per l'acquisizione delle web news da quasi ogni angolo di ogni paese. Questo progetto si serve del servizio GDELT 2.0 da essi fornito nel ruolo di sorgente dati della pipeline. \\\n",
    "\\\n",
    "GDELT 2.0 fornisce periodicamente un file in formato CSV contenente dati sugli ultimissimi articoli di giornale pubblicati in tutto il mondo negli ultimi 15 minuti, da più di 3000 testate giornalistiche.\\\n",
    "Un demone python si occuperà di interrogare ogni 15 minuti il servizio, filtrando e riformattando oppurtunamente il dataframe. Dopodiché condivederà con Fluentd il file risultante, addormentandosi fino al prossimo update.\\\n",
    "\n",
    "\n",
    "---"
   ]
  },
  {
   "cell_type": "markdown",
   "metadata": {},
   "source": [
    "#### Fluentd\n",
    "Fluentd è un progetto software di raccolta dati open source multipiattaforma; i suoi punti forti sono sicuramente la leggerezza in termini di risorse utilizzate che sono ridotte ai minimi termini garantendo quindi anche una maggiore velocità ed il grande controllo interno (routing) dei flussi di dati.\\\n",
    "\\\n",
    "Fluentd condividerà un volume con il demone da cui verrano prelevati i dati grezzi. Questi verranno infine convogliati verso Kafka.\n",
    "\n",
    "---"
   ]
  },
  {
   "cell_type": "markdown",
   "metadata": {},
   "source": [
    "#### Apachi Kafka\n",
    "Kafka è una piattaforma open source di stream processing a bassa latenza ed alta velocità per la gestione di feed dati in tempo reale. \\\n",
    "\\\n",
    "Kafka si occuperà di ricevere i dati, fin'ora volatili, da Fluentd e renderli fault-tolerant e persistenti.\n",
    "\n",
    "---"
   ]
  },
  {
   "cell_type": "markdown",
   "metadata": {},
   "source": [
    "#### Apachi Spark, PySpark e MLlib\n",
    "Apache Spark è un framework open source per il calcolo distribuito, studiato appositamente per l'esecuzione di algoritmi di apprendimento automatico su flussi di dati. \\\n",
    "\\\n",
    "Questa tecnologia è usata in questo progetto per il processo di categorizzazione degli articoli di giornale, tramite un modello di machine learning istruito ad-hoc.\\\n",
    "Si dintinguono a questo punto due diverse istanze di Spark: un trainer ed un executor.\\\n",
    "Il trainer ha il compito di istruire un modello di machine learning ed utilizzerà un dataset open oppurtunamente rielaborato ed adattato ai fini del progetto. Il modello riuscirà a riconoscere ben 17 classi/categorie ben distinte: \\\n",
    "| +--------------+  \\\n",
    "| |category        \\\n",
    "| +--------------+  \\\n",
    "| |SPORTS          \\\n",
    "| |POLITICS        \\\n",
    "| |ENTERTAINMENT   \\\n",
    "| |ENVIRONMENT     \\\n",
    "| |TECH            \\\n",
    "| |BUSINESS        \\\n",
    "| |STYLE & BEAUTY  \\\n",
    "| |RELIGION        \\\n",
    "| |EDUCATION       \\\n",
    "| |TRAVEL          \\\n",
    "| |CRIME           \\\n",
    "| |RIGHTS          \\\n",
    "| |FOOD & DRINK    \\\n",
    "| |ARTS & CULTURE  \\\n",
    "| |WORLD NEWS      \\\n",
    "| |SCIENCE         \\\n",
    "| |WELLNESS        \\\n",
    "| +--------------+"
   ]
  }
 ],
 "metadata": {
  "language_info": {
   "name": "python"
  },
  "orig_nbformat": 4
 },
 "nbformat": 4,
 "nbformat_minor": 2
}
