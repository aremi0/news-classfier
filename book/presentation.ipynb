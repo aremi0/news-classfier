{
 "cells": [
  {
   "cell_type": "markdown",
   "metadata": {},
   "source": [
    "# News Classfier - TAP project\n",
    "### A real-time news article categorizer\n",
    "---"
   ]
  },
  {
   "cell_type": "markdown",
   "metadata": {},
   "source": [
    "#### Introduzione\n",
    "Lo scopo del progetto è quello di raccogliere e analizzare gli ultimissimi articoli giornalistici pubblicati ogni quindici minuti da più di 3000 testate in tutto il mondo, categorizzarli con un modello di machine learning sulla base del testo che li compone in una tra le diciassette categorie previste, ed infine mostrare i dati più rilevanti in una world-map dinamica stilizzata, permettendo inoltre analisi comparative tra i vari stati del mondo."
   ]
  },
  {
   "cell_type": "markdown",
   "metadata": {},
   "source": [
    "#### Workflow\n"
   ]
  }
 ],
 "metadata": {
  "language_info": {
   "name": "python"
  },
  "orig_nbformat": 4
 },
 "nbformat": 4,
 "nbformat_minor": 2
}
